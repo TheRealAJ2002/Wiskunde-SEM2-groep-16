{
 "cells": [
  {
   "cell_type": "code",
   "execution_count": 4,
   "id": "af865c67",
   "metadata": {},
   "outputs": [
    {
     "name": "stdout",
     "output_type": "stream",
     "text": [
      "Error: 'Mobiliteitsdata.xlsx' niet gevonden. Zorg dat het bestand in dezelfde map staat.\n"
     ]
    },
    {
     "ename": "NameError",
     "evalue": "name 'df' is not defined",
     "output_type": "error",
     "traceback": [
      "\u001b[31m---------------------------------------------------------------------------\u001b[39m",
      "\u001b[31mNameError\u001b[39m                                 Traceback (most recent call last)",
      "\u001b[36mCell\u001b[39m\u001b[36m \u001b[39m\u001b[32mIn[4]\u001b[39m\u001b[32m, line 20\u001b[39m\n\u001b[32m     17\u001b[39m \u001b[38;5;28;01mexcept\u001b[39;00m \u001b[38;5;167;01mFileNotFoundError\u001b[39;00m:\n\u001b[32m     18\u001b[39m     \u001b[38;5;28mprint\u001b[39m(\u001b[33m\"\u001b[39m\u001b[33mError: \u001b[39m\u001b[33m'\u001b[39m\u001b[33mMobiliteitsdata.xlsx\u001b[39m\u001b[33m'\u001b[39m\u001b[33m niet gevonden. Zorg dat het bestand in dezelfde map staat.\u001b[39m\u001b[33m\"\u001b[39m)\n\u001b[32m---> \u001b[39m\u001b[32m20\u001b[39m \u001b[43mdf\u001b[49m.head()\n",
      "\u001b[31mNameError\u001b[39m: name 'df' is not defined"
     ]
    }
   ],
   "source": [
    "import pandas as pd\n",
    "import numpy as np\n",
    "import matplotlib.pyplot as plt\n",
    "import seaborn as sns\n",
    "from scipy import stats\n",
    "import math\n",
    "\n",
    "# Stel visualisatie-instellingen in voor betere leesbaarheid\n",
    "sns.set_theme(style=\"whitegrid\")\n",
    "plt.rcParams['figure.figsize'] = (10, 6)\n",
    "\n",
    "# Laad de dataset in\n",
    "try:\n",
    "    df = pd.read_excel(\"Mobiliteitsdata.xlsx\")\n",
    "    print(\"Dataset succesvol geladen.\")\n",
    "    print(\"Aantal rijen en kolommen:\", df.shape)\n",
    "except FileNotFoundError:\n",
    "    print(\"Error: 'Mobiliteitsdata.xlsx' niet gevonden. Zorg dat het bestand in dezelfde map staat.\")\n",
    "\n",
    "df.head()"
   ]
  },
  {
   "cell_type": "markdown",
   "id": "4bc52d04",
   "metadata": {},
   "source": [
    "1. Geef voor elke variabele in de dataset weer tot welk meetniveau deze behoort.\n",
    "\n",
    "Hieronder staat een overzicht van de variabelen en hun bijbehorende meetniveau.\n",
    "Variabele\tMeetniveau\tToelichting\n",
    "persoon_ID\tNominaal\tEen unieke identificatie zonder kwantitatieve betekenis of rangorde.\n",
    "geslacht\tNominaal\tCategorieën (man, vrouw, anders) zonder natuurlijke rangorde.\n",
    "leeftijd\tRatio\tNumerieke waarde met een absoluut nulpunt en gelijke intervallen.\n",
    "gewicht_KG\tRatio\tNumerieke waarde met een absoluut nulpunt.\n",
    "burgerlijke_staat\tNominaal\tCategorieën zonder rangorde (gehuwd, ongehuwd, etc.).\n",
    "jaarsalaris_eu\tRatio\tNumerieke waarde met een absoluut nulpunt.\n",
    "huishouden_grootte\tRatio\tNumerieke waarde (aantal personen) met een absoluut nulpunt.\n",
    "stad\tNominaal\tGeografische categorieën zonder rangorde.\n",
    "provincie\tNominaal\tGeografische categorieën zonder rangorde.\n",
    "opleiding_niveau\tOrdinaal\tCategorieën met een duidelijke rangorde (MBO < HBO < WO).\n",
    "autobezit\tNominaal\tDichotome variabele (ja/nee) zonder rangorde.\n",
    "fietsbezit\tNominaal\tDichotome variabele (ja/nee) zonder rangorde.\n",
    "elektrisch_auto\tNominaal\tDichotome variabele (ja/nee) zonder rangorde.\n",
    "km_auto_per_jaar\tRatio\tNumerieke waarde met een absoluut nulpunt.\n",
    "km_fiets_per_jaar\tRatio\tNumerieke waarde met een absoluut nulpunt.\n",
    "km_ov_per_jaar\tRatio\tNumerieke waarde met een absoluut nulpunt.\n",
    "km_vliegtuig_per_jaar\tRatio\tNumerieke waarde met een absoluut nulpunt.\n",
    "dagen_thuiswerken_per_week_pro_rato\tRatio\tNumerieke waarde met een absoluut nulpunt.\n",
    "dagen_kantoorwerken_per_week_pro_rato\tRatio\tNumerieke waarde met een absoluut nulpunt.\n",
    "dagen_in_buitenland_per_jaar\tRatio\tNumerieke waarde met een absoluut nulpunt.\n",
    "gebruik_carsharing\tOrdinaal\tCategorieën met een duidelijke rangorde (Nooit < ... < Altijd).\n",
    "co2_uitstoot_per_jaar_KG\tRatio\tNumerieke waarde met een absoluut nulpunt (onze afhankelijke variabele)."
   ]
  },
  {
   "cell_type": "markdown",
   "id": "38797009",
   "metadata": {},
   "source": [
    "2. Waarom is het nodig om vooraf te bekijken tot welk meetniveau elke variabele behoort?\n",
    "\n",
    "Het bepalen van het meetniveau van elke variabele is een fundamentele en cruciale eerste stap in data-analyse om de volgende redenen:\n",
    "Keuze van Statistische Maten: Het meetniveau bepaalt welke centrum- en spreidingsmaten zinvol zijn.\n",
    "Nominaal: Alleen de modus (meest voorkomende categorie) is zinvol.\n",
    "Ordinaal: Modus en mediaan zijn zinvol. Een gemiddelde is technisch onjuist.\n",
    "Ratio/Interval: Gemiddelde, mediaan, modus, standaarddeviatie en variantie zijn allemaal zinvol.\n",
    "Keuze van Visualisaties: Het meetniveau dicteert de meest geschikte visualisatietechniek.\n",
    "Nominaal/Ordinaal: Staafdiagrammen (count plots) of taartdiagrammen.\n",
    "Ratio/Interval: Histogrammen, boxplots, of scatter plots (in relatie tot een andere numerieke variabele).\n",
    "Keuze van Statistische Toetsen: De juiste statistische toets om hypotheses te onderzoeken hangt direct af van het meetniveau van de betrokken variabelen (bijv. Chi-kwadraat voor twee nominale variabelen, t-toets/ANOVA voor een nominale en een ratio variabele).\n",
    "Voorbereiding voor Machine Learning (Preprocessing): Machine learning-algoritmes vereisen numerieke input. Het meetniveau bepaalt hoe we een variabele moeten transformeren:\n",
    "Nominaal: Vaak via One-Hot Encoding om te voorkomen dat het model een onjuiste rangorde leert.\n",
    "Ordinaal: Vaak via Ordinal Encoding (of Label Encoding) waarbij de rangorde wordt behouden (bijv. MBO=1, HBO=2, WO=3).\n",
    "Ratio/Interval: Vaak via schalen (bijv. Standaardisatie of Normalisatie) om te zorgen dat variabelen met een groot bereik het model niet domineren.\n",
    "Kortom, zonder kennis van het meetniveau lopen we het risico onjuiste analyses uit te voeren, misleidende visualisaties te maken en machine learning-modellen incorrect te trainen, wat leidt tot ongeldige conclusies."
   ]
  },
  {
   "cell_type": "markdown",
   "id": "26aa2cfe",
   "metadata": {},
   "source": [
    "3. Ga na of er missende/niet kloppende/extreme waarden zijn in de dataset en ga hier op een adequate manier mee om.\n",
    "\n",
    "Stap 1: Controleer datatypen en missende waarden"
   ]
  },
  {
   "cell_type": "code",
   "execution_count": null,
   "id": "c4f091dd",
   "metadata": {},
   "outputs": [],
   "source": [
    "kolommen_naar_numeriek = [\n",
    "    'gewicht_KG', 'jaarsalaris_eu', 'km_auto_per_jaar', 'km_fiets_per_jaar',\n",
    "    'km_ov_per_jaar', 'km_vliegtuig_per_jaar', 'co2_uitstoot_per_jaar_KG'\n",
    "]\n",
    "\n",
    "# Corrigeer komma's en converteer naar numeriek type\n",
    "for col in kolommen_naar_numeriek:\n",
    "    if df[col].dtype == 'object':\n",
    "        df[col] = df[col].str.replace(',', '.').astype(float)\n",
    "\n",
    "# Controleer nu de datatypes en missende waarden opnieuw\n",
    "print(\"Datatypes na conversie:\")\n",
    "print(df.info())"
   ]
  }
 ],
 "metadata": {
  "kernelspec": {
   "display_name": "Python 3",
   "language": "python",
   "name": "python3"
  },
  "language_info": {
   "codemirror_mode": {
    "name": "ipython",
    "version": 3
   },
   "file_extension": ".py",
   "mimetype": "text/x-python",
   "name": "python",
   "nbconvert_exporter": "python",
   "pygments_lexer": "ipython3",
   "version": "3.13.2"
  }
 },
 "nbformat": 4,
 "nbformat_minor": 5
}
